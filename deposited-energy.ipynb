{
 "cells": [
  {
   "cell_type": "code",
   "execution_count": 48,
   "metadata": {},
   "outputs": [
    {
     "data": {
      "image/png": "[encoded data removed]",
      "text/plain": [
       "<Figure size 432x288 with 1 Axes>"
      ]
     },
     "metadata": {
      "needs_background": "light"
     },
     "output_type": "display_data"
    },
    {
     "data": {
      "image/png": "[encoded data removed]",
      "text/plain": [
       "<Figure size 432x288 with 1 Axes>"
      ]
     },
     "metadata": {
      "needs_background": "light"
     },
     "output_type": "display_data"
    },
    {
     "name": "stdout",
     "output_type": "stream",
     "text": [
      "number of photoelectric events 4551\n",
      "number of compton events 5449\n",
      "number of total events is 10000\n"
     ]
    }
   ],
   "source": [
    "import random\n",
    "import math\n",
    "import matplotlib.pyplot as plt\n",
    "import numpy as np\n",
    "\n",
    "E = [1.8389, 2.0, 3.0, 4.0, 5.0, 6.0, 8.0, 10.0, 15.0, 20.0, 30.0, 40.0, 50.0, 60.0, 80.0, 100.0, 150.0, 200.0, 300.0, 400.0, 500.0, 600.0, 800.0, 1000.01]\n",
    "mua = [3192, 2777, 978.4, 452.9, 245.0, 147.0, 64.68, 33.6, 9.97, 4.19, 1.31, .635, .396, .292, .207, .173, .140, .125, .107, .0954, .0870, .0805, .0706, .0635]\n",
    "#length = len(E)\n",
    "#frac is compton fraction\n",
    "frac = [0.000, 0.000, 0.000, 0.000, 0.000, 0.001, 0.002, 0.006, 0.019, 0.044, 0.137, 0.274, 0.426, 0.560, 0.750, 0.853, 0.950, 0.977, 0.992, 0.996, 0.998, 0.999, 0.999, 0.999]\n",
    "#frac_len = len(frac)\n",
    "\n",
    "def InterpolateE(E_input):    #gives mass attenuation\n",
    "    #mua_new =0\n",
    "    for i in range(len(E)):\n",
    "        #print(i, E[i])\n",
    "        if((E_input <= E[i])): \n",
    "            mua_new = (((E_input-E[i-1])/(E[i]-E[i-1]))*(mua[i]-mua[i-1])) + mua[i-1]\n",
    "            return mua_new\n",
    "    return 3\n",
    "\n",
    "def InterpolateFrac(E_input): #gives compton fraction\n",
    "    frac_new = 0\n",
    "    for i in range(len(frac)):\n",
    "        if((E_input <= E[i])):\n",
    "            frac_new = ((E_input-E[i-1])/(E[i]-E[i-1]))*(frac[i]-frac[i-1]) + frac[i-1]\n",
    "            return frac_new\n",
    "def FindMu(E_input):   #gives linear attenuation\n",
    "    mu = InterpolateE(E_input)*2.33 \n",
    "    return mu\n",
    "#example of 6.0 KeV\n",
    "\n",
    "#DETERMINE IF IT INTERACTS\n",
    "Ein = 60.0   #input energy\n",
    "mu1 = FindMu(Ein)\n",
    "\n",
    "listE = []\n",
    "listk = []\n",
    "c_pe = 0  #counts the number of photoelctric events\n",
    "c_comp = 0#counts the number of compton events\n",
    "c = 0  #counts the number of interactions\n",
    "while c < 10000:\n",
    "    x = random.random()\n",
    "    f = -(1/mu1)*math.log(1.0-x)\n",
    "    if f > 0.01:  #no interaction\n",
    "        c =c\n",
    "        continue \n",
    "    else: #interaction, f < 0.01\n",
    "        c = c+1\n",
    "        cf = InterpolateFrac(Ein) #IF IT INTERACTS, INTERPOLATE COMPTON FRAC AND DECIDE TYPE OF INTEREACTION\n",
    "        r1 = random.random()\n",
    "        if r1 > cf: #PE event\n",
    "            c_pe = c_pe +1\n",
    "            listE.append(Ein) #IF PE EVENT, APPEND INCIDENT ENERGY IN HISTOGRAM\n",
    "        else: #COMPTON EVENT, USE ACCEPTANCE/REJECTION\n",
    "            test = -999\n",
    "            while test < 0:\n",
    "                k = random.uniform(-1,1)\n",
    "                ang_rad = math.acos(k) #scattering angle\n",
    "                P = 1/(1 + (Ein/511)*(1-k))\n",
    "                kn = (1/2)*(P**2)*(P + (1/P) - np.sin(ang_rad)**2)  #Klein-Nishina\n",
    "                r2 = random.uniform(0,1)\n",
    "                if r2 < kn: #accept this klein-nishina value and calculate deposited energy\n",
    "                    Ef = Ein/(1 + (Ein/511)*(1-k))\n",
    "                    Edep = Ein- Ef #deposited energy\n",
    "                    c_comp = c_comp + 1\n",
    "                    listE.append(Edep)\n",
    "                    listk.append(k)\n",
    "                    test = 999\n",
    "                else:\n",
    "                #c=c\n",
    "                    continue #needs to take me back to else statement\n",
    "                \n",
    "            \n",
    "            \n",
    "\n",
    "plt.hist(listE, bins = 60)\n",
    "plt.show()\n",
    "\n",
    "\n",
    "plt.hist(listk)\n",
    "plt.show()\n",
    "\n",
    "print(\"number of photoelectric events\", c_pe)\n",
    "print(\"number of compton events\", c_comp)\n",
    "print(\"number of total events is\", c)"
   ]
  },
  {
   "cell_type": "code",
   "execution_count": null,
   "metadata": {},
   "outputs": [],
   "source": []
  }
 ],
 "metadata": {
  "kernelspec": {
   "display_name": "Python 3",
   "language": "python",
   "name": "python3"
  },
  "language_info": {
   "codemirror_mode": {
    "name": "ipython",
    "version": 3
   },
   "file_extension": ".py",
   "mimetype": "text/x-python",
   "name": "python",
   "nbconvert_exporter": "python",
   "pygments_lexer": "ipython3",
   "version": "3.7.1"
  }
 },
 "nbformat": 4,
 "nbformat_minor": 2
}
