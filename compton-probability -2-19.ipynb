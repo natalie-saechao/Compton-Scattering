{
 "cells": [
  {
   "cell_type": "code",
   "execution_count": 511,
   "metadata": {},
   "outputs": [
    {
     "name": "stdout",
     "output_type": "stream",
     "text": [
      "mu1 is 342.51\n"
     ]
    },
    {
     "data": {
      "text/plain": [
       "<function matplotlib.pyplot.show(*args, **kw)>"
      ]
     },
     "execution_count": 511,
     "metadata": {},
     "output_type": "execute_result"
    },
    {
     "data": {
      "image/png": "[encoded data removed]",
      "text/plain": [
       "<Figure size 432x288 with 1 Axes>"
      ]
     },
     "metadata": {
      "needs_background": "light"
     },
     "output_type": "display_data"
    }
   ],
   "source": [
    "import random\n",
    "import math\n",
    "import matplotlib.pyplot as plt\n",
    "import numpy as np\n",
    "#choose event\n",
    "#print(random.random())\n",
    "#use random number generator to choose 0 (photoelectric) or 1 (compton scattering)\n",
    "#do loop, 10,000 times, get compton fraction\n",
    "\n",
    "#if (>0.5, photoelectric)\n",
    "  #if random.random() < 0.5\n",
    "     \n",
    "#compare number generated to compton fraction, should be bigger or less than compton fraction\n",
    "#else(<=0.5, compton)\n",
    " \n",
    "#maybe put all the energies and attenuation lengths into an array???\n",
    "#input energy\n",
    "#just do interpolation\n",
    "E = [1.8389, 2.0, 3.0, 4.0, 5.0, 6.0, 8.0, 10.0, 15.0, 20.0, 30.0, 40.0, 50.0, 60.0, 80.0, 100.0, 150.0, 200.0, 300.0, 400.0, 500.0, 600.0, 800.0, 1000.01]\n",
    "mua = [3192, 2777, 978.4, 452.9, 245.0, 147.0, 64.68, 33.6, 9.97, 4.19, 1.31, .635, .396, .292, .207, .173, .140, .125, .107, .0954, .0870, .0805, .0706, .0635]\n",
    "length = len(E)\n",
    "#frac is compton fraction\n",
    "frac = [0.000, 0.000, 0.000, 0.000, 0.000, 0.001, 0.002, 0.006, 0.019, 0.044, 0.137, 0.274, 0.426, 0.560, 0.750, 0.853, 0.950, 0.977, 0.992, 0.996, 0.998, 0.999, 0.999, 0.999]\n",
    "frac_len = len(frac)\n",
    "#print(\"energy array length is \",leng]\n",
    "      #th)\n",
    "#find mass attenuation length, mua\n",
    "#if mua is not in array, then interpolate\n",
    " #    #loop through list of energies, for now just find where energy would be in array\n",
    "\n",
    "#density of silicon is 2.33\n",
    "def InterpolateE(E_input):   #this gives mass attenuation\n",
    "    #mua_new =0\n",
    "    for i in range(length):\n",
    "        #print(i, E[i])\n",
    "        if((E_input <= E[i])): \n",
    "            #print(\"energy is between\")\n",
    "            #print(i, E[i-1], E[i], mua[i-1], mua[i])\n",
    "            mua_new = (((E_input-E[i-1])/(E[i]-E[i-1]))*(mua[i]-mua[i-1])) + mua[i-1] #not done, if energy input is 7,.0, between 147 and 64\n",
    "            #print(\"this is new mua\", mua_new)\n",
    "            return mua_new\n",
    "    return 17\n",
    "\n",
    "\n",
    "def InterpolateFrac(E_input):\n",
    "    frac_new = 0\n",
    "    for i in range(frac_len):\n",
    "        if((E_input <= E[i])):\n",
    "            frac_new = ((E_input-E[i-1])/(E[i]-E[i-1]))*(frac[i]-frac[i-1]) + frac[i-1]\n",
    "            #print(\"this is comp frac\", frac_new)\n",
    "            return frac_new\n",
    "                \n",
    "def FindMu(E_input):\n",
    "    mu = InterpolateE(E_input)*2.33 #gives mua and multiply by 2,33\n",
    "    #print(\"mu is\", mu)\n",
    "    return mu\n",
    "\n",
    "comp_frac = InterpolateFrac(70.0)\n",
    "\n",
    "mu1 = FindMu(6.0) #342.5\n",
    "print(\"mu1 is\", mu1)\n",
    "\n",
    "list = []\n",
    "# lambda should not be 10, but 1/mua\n",
    "c = 0\n",
    "for i in range(100):\n",
    "    x = random.random()\n",
    "    #print(\"x is\", x)\n",
    "    f = -(1/mu1)*math.log(1.0-x)\n",
    "    #print(f)\n",
    "    if f > 0.01: \n",
    "        c =c\n",
    "        #print(f,\" is bigger than 0.01\")   #this means no interaction, goes in 0th bin\n",
    "    else:\n",
    "        c = c+1\n",
    "        #print(f,\" is smaller than 0.01\") #means interaction did happen, now discriminate between compton and pe\n",
    "        #compare to compton frac to determine if photoelec or compton scatter  c = c+1\n",
    "    list.append(f)\n",
    "#print(\"this is c\", c/10000)\n",
    "#print(\"0.95: \", -(1/mu1)*math.log(1-.0059))\n",
    "#print(\"-(1/mu1)\", -1/mu1)\n",
    "plt.hist(list)\n",
    "plt.show\n",
    "\n",
    "#plt.savefig('figure.pdf')\n",
    "    "
   ]
  },
  {
   "cell_type": "code",
   "execution_count": null,
   "metadata": {},
   "outputs": [],
   "source": []
  },
  {
   "cell_type": "code",
   "execution_count": 406,
   "metadata": {},
   "outputs": [],
   "source": [
    "#for incoming energy, put it in data statement, ienter energy in from user\n",
    "#need compton fractions\n",
    "#get input/output and interpolation \n",
    "# 2 interpolations, compton fractions and mua"
   ]
  },
  {
   "cell_type": "code",
   "execution_count": 513,
   "metadata": {
    "scrolled": true
   },
   "outputs": [
    {
     "name": "stdout",
     "output_type": "stream",
     "text": [
      "compton fraction is 0.001\n",
      "c_none is 2\n",
      "c_comp 0\n",
      "c_phot 98\n"
     ]
    }
   ],
   "source": [
    "#HISTOGRAM PROGRAM\n",
    "#example of energy of 6.0 KeV\n",
    "#THIS ONE SUCKS, IGNORE\n",
    "#determine if interaction happened\n",
    "mu2 = FindMu(6.0)\n",
    "cf2 = InterpolateFrac(6.0) #compton frac  \n",
    "print(\"compton fraction is\", cf2)\n",
    "c_none = 0\n",
    "c_comp = 0\n",
    "c_phot = 0\n",
    "#list1 = []\n",
    "for i in range(100):\n",
    "    fi = -(1/mu2)*math.log(1-random.random())\n",
    "    if fi < 0.01: #then interaction did occur\n",
    "        if cf2 > random.random():\n",
    "            c_comp = c_comp + 1\n",
    "            #print(\"compton\")\n",
    "            #deposit 1/2 total energy\n",
    "            #c_comp = \n",
    "            #list1.append(c_comp)\n",
    "        else:\n",
    "            #print(\"photoelectric\")\n",
    "            c_phot = c_phot + 1\n",
    "            list1.append(c_phot)\n",
    "            #deposit etire energy\n",
    "    else:   #no interaction\n",
    "        c_none = c_none + 1\n",
    "        #list1.append(c_none)\n",
    "\n",
    "print(\"c_none is\", c_none)\n",
    "print(\"c_comp\", c_comp)\n",
    "print(\"c_phot\", c_phot)\n",
    "#plt.hist(list1)\n",
    "#plt.show()\n",
    "\n",
    "plt.show()\n"
   ]
  },
  {
   "cell_type": "code",
   "execution_count": 497,
   "metadata": {},
   "outputs": [],
   "source": [
    "#take energies in the middle, take on energy\n",
    "#take energy with compton frac is .2"
   ]
  },
  {
   "cell_type": "code",
   "execution_count": 431,
   "metadata": {},
   "outputs": [
    {
     "name": "stdout",
     "output_type": "stream",
     "text": [
      "for 70.0KeV:\n",
      "mass attenuation is 0.2495\n",
      "mu is 0.581335\n",
      "compton frac is 0.655\n",
      "number of interactions for 1000 events is 4\n"
     ]
    }
   ],
   "source": [
    "#for energy input of 70.0kev\n",
    "#InterpolateFrac(70.0)\n",
    "print(\"for 70.0KeV:\")\n",
    "print(\"mass attenuation is\", InterpolateE(70.0))\n",
    "print(\"mu is\", FindMu(70.0))\n",
    "#print(\"and 1/mu is\", 1/FindMu(70.0))\n",
    "print(\"compton frac is\", InterpolateFrac(70.0))\n",
    "counter = 0 \n",
    "for i in range(1000):\n",
    "    #mu = FindMu(70.0)\n",
    "    #counter = 0\n",
    "    #print(\"EVENT\", i)\n",
    "    cf = InterpolateFrac(70.0)\n",
    "    f_point = -(1/FindMu(70.0))*math.log(1-random.random()) #these points being generated are too large\n",
    "    #print(\"f point is\", f_point)\n",
    "    if f_point < 0.01:\n",
    "        #print(\"INTERACTION\")\n",
    "        counter = counter + 1\n",
    "    else:\n",
    "        #print(\"NO INTERACTION\")\n",
    "        counter = counter \n",
    "print(\"number of interactions for 1000 events is\", counter)"
   ]
  },
  {
   "cell_type": "markdown",
   "metadata": {},
   "source": [
    "Histogram attempt"
   ]
  },
  {
   "cell_type": "code",
   "execution_count": 510,
   "metadata": {},
   "outputs": [
    {
     "name": "stdout",
     "output_type": "stream",
     "text": [
      "c_none is 2\n",
      "c_comp 1\n",
      "c_phot 97\n"
     ]
    },
    {
     "data": {
      "image/png": "[encoded data removed]",
      "text/plain": [
       "<Figure size 432x288 with 1 Axes>"
      ]
     },
     "metadata": {
      "needs_background": "light"
     },
     "output_type": "display_data"
    }
   ],
   "source": [
    "print(\"c_none is\", c_none)\n",
    "print(\"c_comp\", c_comp)\n",
    "print(\"c_phot\", c_phot)\n",
    "\n",
    "bars = ('none', 'comp', 'phot')\n",
    "height1 = [c_none, c_comp, c_phot]\n",
    "#y_pos = np.arange(len(bars))\n",
    "y_pos = np.arange(1,6,2)\n",
    "plt.bar(y_pos, height1)\n",
    "plt.xticks(y_pos, bars)\n",
    "plt.title('6.0KeV Histogram')\n",
    "plt.xlabel('event types')\n",
    "plt.ylabel('# of events')\n",
    "#ax.legend()\n",
    "plt.show()\n"
   ]
  },
  {
   "cell_type": "code",
   "execution_count": null,
   "metadata": {},
   "outputs": [],
   "source": []
  }
 ],
 "metadata": {
  "kernelspec": {
   "display_name": "Python 3",
   "language": "python",
   "name": "python3"
  },
  "language_info": {
   "codemirror_mode": {
    "name": "ipython",
    "version": 3
   },
   "file_extension": ".py",
   "mimetype": "text/x-python",
   "name": "python",
   "nbconvert_exporter": "python",
   "pygments_lexer": "ipython3",
   "version": "3.7.1"
  }
 },
 "nbformat": 4,
 "nbformat_minor": 2
}
