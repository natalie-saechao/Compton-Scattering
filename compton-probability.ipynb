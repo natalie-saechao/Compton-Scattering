{
 "cells": [
  {
   "cell_type": "code",
   "execution_count": 471,
   "metadata": {},
   "outputs": [
    {
     "name": "stdout",
     "output_type": "stream",
     "text": [
      "mu1 is 342.51\n",
      "0.007096462045927942  is smaller than 0.01\n",
      "0.0031389082390743703  is smaller than 0.01\n",
      "0.005751685918194787  is smaller than 0.01\n",
      "0.001801528723155074  is smaller than 0.01\n",
      "0.0027736667753752086  is smaller than 0.01\n",
      "0.0033419362805204183  is smaller than 0.01\n",
      "0.004267480473411115  is smaller than 0.01\n",
      "0.002406335523804259  is smaller than 0.01\n",
      "0.0007942259614569384  is smaller than 0.01\n",
      "0.0002652746707829082  is smaller than 0.01\n",
      "0.006162553088445358  is smaller than 0.01\n",
      "0.002577603202644721  is smaller than 0.01\n",
      "0.0005500949192931026  is smaller than 0.01\n",
      "0.00710444589785343  is smaller than 0.01\n",
      "0.004185380080022362  is smaller than 0.01\n",
      "0.0002942923999448766  is smaller than 0.01\n",
      "0.0002993337719067534  is smaller than 0.01\n",
      "0.0007255215593215402  is smaller than 0.01\n",
      "0.0023098802365939188  is smaller than 0.01\n",
      "0.0012527886797702337  is smaller than 0.01\n",
      "0.001892809933364209  is smaller than 0.01\n",
      "0.0016090245015258472  is smaller than 0.01\n",
      "0.0023183466674502073  is smaller than 0.01\n",
      "0.0023402311193994494  is smaller than 0.01\n",
      "0.01105255159674494  is bigger than 0.01\n",
      "0.002508280180904478  is smaller than 0.01\n",
      "0.005003822972148377  is smaller than 0.01\n",
      "0.00136447411105568  is smaller than 0.01\n",
      "0.0005163223278439796  is smaller than 0.01\n",
      "0.001033607917639186  is smaller than 0.01\n",
      "0.00014544131978381104  is smaller than 0.01\n",
      "0.0006166624982640417  is smaller than 0.01\n",
      "0.0030309452006481866  is smaller than 0.01\n",
      "0.005148034009107441  is smaller than 0.01\n",
      "0.001898922842764706  is smaller than 0.01\n",
      "0.001196151812110981  is smaller than 0.01\n",
      "0.00046345291512784177  is smaller than 0.01\n",
      "0.0015077669533703098  is smaller than 0.01\n",
      "0.011559714576089777  is bigger than 0.01\n",
      "0.002137554115198397  is smaller than 0.01\n",
      "0.01010557603720288  is bigger than 0.01\n",
      "0.003691062987299075  is smaller than 0.01\n",
      "0.0003264910649402864  is smaller than 0.01\n",
      "0.002803215716762804  is smaller than 0.01\n",
      "0.007798272760587054  is smaller than 0.01\n",
      "0.00344274408893387  is smaller than 0.01\n",
      "0.0019431645518196352  is smaller than 0.01\n",
      "0.0016767747684792583  is smaller than 0.01\n",
      "0.008110020276307929  is smaller than 0.01\n",
      "0.002194546858246289  is smaller than 0.01\n",
      "0.00020125857347499292  is smaller than 0.01\n",
      "0.0011380034208671337  is smaller than 0.01\n",
      "0.011524713671092684  is bigger than 0.01\n",
      "9.479521798317596e-07  is smaller than 0.01\n",
      "0.0036555593286378284  is smaller than 0.01\n",
      "0.0009438850215977337  is smaller than 0.01\n",
      "0.0017593068357651352  is smaller than 0.01\n",
      "0.003959785736467895  is smaller than 0.01\n",
      "0.0021045326159913193  is smaller than 0.01\n",
      "0.00036696550017709074  is smaller than 0.01\n",
      "0.0005360742969819996  is smaller than 0.01\n",
      "0.0011539518914606157  is smaller than 0.01\n",
      "0.0006869248975588982  is smaller than 0.01\n",
      "0.00253791023005718  is smaller than 0.01\n",
      "0.002684592096795851  is smaller than 0.01\n",
      "5.6016075746048635e-05  is smaller than 0.01\n",
      "0.0003120590397459644  is smaller than 0.01\n",
      "0.001028894681401158  is smaller than 0.01\n",
      "0.00044394675920498135  is smaller than 0.01\n",
      "0.0038117741498979525  is smaller than 0.01\n",
      "0.002475016951343077  is smaller than 0.01\n",
      "0.013856739185523857  is bigger than 0.01\n",
      "0.003614424842895452  is smaller than 0.01\n",
      "0.0026021852421849356  is smaller than 0.01\n",
      "0.0028819729605216804  is smaller than 0.01\n",
      "0.005700346975704891  is smaller than 0.01\n",
      "0.0015857592839706187  is smaller than 0.01\n",
      "0.000788357892120979  is smaller than 0.01\n",
      "0.0006759949566653368  is smaller than 0.01\n",
      "0.0005363793461652922  is smaller than 0.01\n",
      "0.004151444542593918  is smaller than 0.01\n",
      "0.001937685212735337  is smaller than 0.01\n",
      "0.0020930626127167195  is smaller than 0.01\n",
      "0.001431186433374135  is smaller than 0.01\n",
      "0.0004247712354009242  is smaller than 0.01\n",
      "4.118360678645034e-06  is smaller than 0.01\n",
      "0.009795491944272748  is smaller than 0.01\n",
      "0.005535837019367535  is smaller than 0.01\n",
      "0.0006438049151335421  is smaller than 0.01\n",
      "6.905652508423258e-05  is smaller than 0.01\n",
      "0.000447113058095935  is smaller than 0.01\n",
      "0.0010995419459125836  is smaller than 0.01\n",
      "9.134972084485494e-05  is smaller than 0.01\n",
      "0.0016582082187804434  is smaller than 0.01\n",
      "0.0017362683992335573  is smaller than 0.01\n",
      "0.0003731132972772706  is smaller than 0.01\n",
      "0.00854171753041237  is smaller than 0.01\n",
      "9.849599618376257e-05  is smaller than 0.01\n",
      "0.004100389807404094  is smaller than 0.01\n",
      "0.001962526121144758  is smaller than 0.01\n"
     ]
    },
    {
     "data": {
      "text/plain": [
       "<function matplotlib.pyplot.show(*args, **kw)>"
      ]
     },
     "execution_count": 471,
     "metadata": {},
     "output_type": "execute_result"
    },
    {
     "data": {
      "image/png": "[encoded data removed]",
      "text/plain": [
       "<Figure size 432x288 with 1 Axes>"
      ]
     },
     "metadata": {
      "needs_background": "light"
     },
     "output_type": "display_data"
    }
   ],
   "source": [
    "import random\n",
    "import math\n",
    "import matplotlib.pyplot as plt\n",
    "import numpy as np\n",
    "#choose event\n",
    "#print(random.random())\n",
    "#use random number generator to choose 0 (photoelectric) or 1 (compton scattering)\n",
    "#do loop, 10,000 times, get compton fraction\n",
    "\n",
    "#if (>0.5, photoelectric)\n",
    "  #if random.random() < 0.5\n",
    "     \n",
    "#compare number generated to compton fraction, should be bigger or less than compton fraction\n",
    "#else(<=0.5, compton)\n",
    " \n",
    "#maybe put all the energies and attenuation lengths into an array???\n",
    "#input energy\n",
    "#just do interpolation\n",
    "E = [1.8389, 2.0, 3.0, 4.0, 5.0, 6.0, 8.0, 10.0, 15.0, 20.0, 30.0, 40.0, 50.0, 60.0, 80.0, 100.0, 150.0, 200.0, 300.0, 400.0, 500.0, 600.0, 800.0, 1000.01]\n",
    "mua = [3192, 2777, 978.4, 452.9, 245.0, 147.0, 64.68, 33.6, 9.97, 4.19, 1.31, .635, .396, .292, .207, .173, .140, .125, .107, .0954, .0870, .0805, .0706, .0635]\n",
    "length = len(E)\n",
    "#frac is compton fraction\n",
    "frac = [0.000, 0.000, 0.000, 0.000, 0.000, 0.001, 0.002, 0.006, 0.019, 0.044, 0.137, 0.274, 0.426, 0.560, 0.750, 0.853, 0.950, 0.977, 0.992, 0.996, 0.998, 0.999, 0.999, 0.999]\n",
    "frac_len = len(frac)\n",
    "#print(\"energy array length is \",leng]\n",
    "      #th)\n",
    "#find mass attenuation length, mua\n",
    "#if mua is not in array, then interpolate\n",
    " #    #loop through list of energies, for now just find where energy would be in array\n",
    "\n",
    "#density of silicon is 2.33\n",
    "def InterpolateE(E_input):   #this gives mass attenuation\n",
    "    #mua_new =0\n",
    "    for i in range(length):\n",
    "        #print(i, E[i])\n",
    "        if((E_input <= E[i])): \n",
    "            #print(\"energy is between\")\n",
    "            #print(i, E[i-1], E[i], mua[i-1], mua[i])\n",
    "            mua_new = (((E_input-E[i-1])/(E[i]-E[i-1]))*(mua[i]-mua[i-1])) + mua[i-1] #not done, if energy input is 7,.0, between 147 and 64\n",
    "            #print(\"this is new mua\", mua_new)\n",
    "            return mua_new\n",
    "    return 17\n",
    "\n",
    "\n",
    "def InterpolateFrac(E_input):\n",
    "    frac_new = 0\n",
    "    for i in range(frac_len):\n",
    "        if((E_input <= E[i])):\n",
    "            frac_new = ((E_input-E[i-1])/(E[i]-E[i-1]))*(frac[i]-frac[i-1]) + frac[i-1]\n",
    "            #print(\"this is comp frac\", frac_new)\n",
    "            return frac_new\n",
    "                \n",
    "def FindMu(E_input):\n",
    "    mu = InterpolateE(E_input)*2.33 #gives mua and multiply by 2,33\n",
    "    #print(\"mu is\", mu)\n",
    "    return mu\n",
    "\n",
    "comp_frac = InterpolateFrac(70.0)\n",
    "\n",
    "mu1 = FindMu(6.0) #342.5\n",
    "print(\"mu1 is\", mu1)\n",
    "\n",
    "list = []\n",
    "# lambda should not be 10, but 1/mua\n",
    "#c = 0\n",
    "for i in range(100):\n",
    "    x = random.random()\n",
    "    #print(\"x is\", x)\n",
    "    f = -(1/mu1)*math.log(1.0-x)\n",
    "    #print(f)\n",
    "    if f > 0.01: \n",
    "        #c =c\n",
    "        print(f,\" is bigger than 0.01\")   #this means no interaction, goes in 0th bin\n",
    "    else:\n",
    "        #c = c+1\n",
    "        print(f,\" is smaller than 0.01\") #means interaction did happen, now discriminate between compton and pe\n",
    "        #compare to compton frac to determine if photoelec or compton scatter  c = c+1\n",
    "    list.append(f)\n",
    "#print(\"this is c\", c/10000)\n",
    "#print(\"0.95: \", -(1/mu1)*math.log(1-.0059))\n",
    "#print(\"-(1/mu1)\", -1/mu1)\n",
    "plt.hist(list)\n",
    "plt.show\n",
    "\n",
    "#plt.savefig('figure.pdf')\n",
    "    "
   ]
  },
  {
   "cell_type": "code",
   "execution_count": null,
   "metadata": {},
   "outputs": [],
   "source": []
  },
  {
   "cell_type": "code",
   "execution_count": 406,
   "metadata": {},
   "outputs": [],
   "source": [
    "#for incoming energy, put it in data statement, ienter energy in from user\n",
    "#need compton fractions\n",
    "#get input/output and interpolation \n",
    "# 2 interpolations, compton fractions and mua"
   ]
  },
  {
   "cell_type": "code",
   "execution_count": 470,
   "metadata": {},
   "outputs": [
    {
     "name": "stdout",
     "output_type": "stream",
     "text": [
      "compton fraction is 0.001\n",
      "c_none is 4\n",
      "c_comp 0\n",
      "c_phot 96\n"
     ]
    },
    {
     "data": {
      "image/png": "[encoded data removed]",
      "text/plain": [
       "<Figure size 432x288 with 1 Axes>"
      ]
     },
     "metadata": {
      "needs_background": "light"
     },
     "output_type": "display_data"
    },
    {
     "data": {
      "text/plain": [
       "(array([0., 0., 0., 0., 0., 1., 0., 0., 0., 0.]),\n",
       " array([-0.5, -0.4, -0.3, -0.2, -0.1,  0. ,  0.1,  0.2,  0.3,  0.4,  0.5]),\n",
       " <a list of 10 Patch objects>)"
      ]
     },
     "execution_count": 470,
     "metadata": {},
     "output_type": "execute_result"
    },
    {
     "data": {
      "image/png": "[encoded data removed]",
      "text/plain": [
       "<Figure size 432x288 with 2 Axes>"
      ]
     },
     "metadata": {
      "needs_background": "light"
     },
     "output_type": "display_data"
    }
   ],
   "source": [
    "#HISTOGRAM PROGRAM\n",
    "#example of energy of 6.0 KeV\n",
    "\n",
    "#determine if interaction happened\n",
    "mu2 = FindMu(6.0)\n",
    "cf2 = InterpolateFrac(6.0) #compton frac  \n",
    "print(\"compton fraction is\", cf2)\n",
    "c_none = 0\n",
    "c_comp = 0\n",
    "c_phot = 0\n",
    "list1 = []\n",
    "for i in range(100):\n",
    "    fi = -(1/mu2)*math.log(1-random.random())\n",
    "    if fi < 0.01: #then interaction did occur\n",
    "        if cf2 > random.random():\n",
    "            c_comp = c_comp + 1\n",
    "            #print(\"compton\")\n",
    "            list1.append(c_comp)\n",
    "        else:\n",
    "            #print(\"photoelectric\")\n",
    "            c_phot = c_phot + 1\n",
    "            list1.append(c_phot)\n",
    "    else:   #no interaction\n",
    "        c_none = c_none + 1\n",
    "        list1.append(c_none)\n",
    "\n",
    "print(\"c_none is\", c_none)\n",
    "print(\"c_comp\", c_comp)\n",
    "print(\"c_phot\", c_phot)\n",
    "plt.hist(list1)\n",
    "plt.show()\n",
    "N_points = 1000\n",
    "n_bins = 10\n",
    "\n",
    "# Generate a normal distribution, center at x=0 and y=5\n",
    "fig, axs = plt.subplots(1, 2)\n",
    "\n",
    "# We can set the number of bins with the `bins` kwarg\n",
    "axs[0].hist(c_none, bins=n_bins)\n",
    "axs[0].hist(c_comp, bins=n_bins)\n",
    "#axs[0].hist(c_phot, bins=n_bins)   #does something weird here\n",
    "\n",
    "#plt.hist(c_none, c_comp, c_phot)\n"
   ]
  },
  {
   "cell_type": "code",
   "execution_count": null,
   "metadata": {},
   "outputs": [],
   "source": [
    "#take energies in the middle, take on energy\n",
    "#take energy with compton frac is .2"
   ]
  },
  {
   "cell_type": "code",
   "execution_count": 431,
   "metadata": {},
   "outputs": [
    {
     "name": "stdout",
     "output_type": "stream",
     "text": [
      "for 70.0KeV:\n",
      "mass attenuation is 0.2495\n",
      "mu is 0.581335\n",
      "compton frac is 0.655\n",
      "number of interactions for 1000 events is 4\n"
     ]
    }
   ],
   "source": [
    "#for energy input of 70.0kev\n",
    "#InterpolateFrac(70.0)\n",
    "print(\"for 70.0KeV:\")\n",
    "print(\"mass attenuation is\", InterpolateE(70.0))\n",
    "print(\"mu is\", FindMu(70.0))\n",
    "#print(\"and 1/mu is\", 1/FindMu(70.0))\n",
    "print(\"compton frac is\", InterpolateFrac(70.0))\n",
    "counter = 0 \n",
    "for i in range(1000):\n",
    "    #mu = FindMu(70.0)\n",
    "    #counter = 0\n",
    "    #print(\"EVENT\", i)\n",
    "    cf = InterpolateFrac(70.0)\n",
    "    f_point = -(1/FindMu(70.0))*math.log(1-random.random()) #these points being generated are too large\n",
    "    #print(\"f point is\", f_point)\n",
    "    if f_point < 0.01:\n",
    "        #print(\"INTERACTION\")\n",
    "        counter = counter + 1\n",
    "    else:\n",
    "        #print(\"NO INTERACTION\")\n",
    "        counter = counter \n",
    "print(\"number of interactions for 1000 events is\", counter)"
   ]
  },
  {
   "cell_type": "code",
   "execution_count": null,
   "metadata": {},
   "outputs": [],
   "source": []
  }
 ],
 "metadata": {
  "kernelspec": {
   "display_name": "Python 3",
   "language": "python",
   "name": "python3"
  },
  "language_info": {
   "codemirror_mode": {
    "name": "ipython",
    "version": 3
   },
   "file_extension": ".py",
   "mimetype": "text/x-python",
   "name": "python",
   "nbconvert_exporter": "python",
   "pygments_lexer": "ipython3",
   "version": "3.7.1"
  }
 },
 "nbformat": 4,
 "nbformat_minor": 2
}
